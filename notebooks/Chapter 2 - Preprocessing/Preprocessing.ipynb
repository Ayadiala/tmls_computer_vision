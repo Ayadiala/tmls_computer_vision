{
 "cells": [
  {
   "cell_type": "markdown",
   "metadata": {},
   "source": [
    "# Preprocessing\n",
    "In this Notebook, we'll do the following.\n",
    "\n",
    "* Select and merge labels from the full ADE20k dataset that we want to keep\n",
    "* Select the scenes from the full ADE20k dataset that we want to use for training\n",
    "* Create new annotation images for each of the selected scenes\n",
    "* Store this newly created dataset with the same directory structure as PASCAL\n",
    "* Visualize the scenes and their annotations side-by-side"
   ]
  },
  {
   "cell_type": "code",
   "execution_count": 1,
   "metadata": {},
   "outputs": [],
   "source": [
    "%load_ext autoreload\n",
    "%autoreload 2"
   ]
  },
  {
   "cell_type": "code",
   "execution_count": 2,
   "metadata": {},
   "outputs": [],
   "source": [
    "import matplotlib.pyplot as plt\n",
    "\n",
    "from conversion import convert_to_pascal\n",
    "from conversion import *"
   ]
  },
  {
   "cell_type": "code",
   "execution_count": 3,
   "metadata": {},
   "outputs": [],
   "source": [
    "# TODO: Set the directory here for the unprocessed ADE20K full dataset.\n",
    "SRC_DIR = \"/home/mxs8x15/datasets/ADE20K_2016_07_26/\"\n",
    "# TODO: Set a destination directory for the formatted ADE20K dataset.\n",
    "DEST_DIR = \"./tutorial_ade20k_pascal\"\n",
    "\n",
    "# TODO: Select scenes of interest to keep.\n",
    "required_keywords = [\n",
    "    'bedroom', 'childs_room', 'dorm_room'\n",
    "]\n",
    "\n",
    "reject_keywords = [\"outdoor\"]\n",
    "\n",
    "want_labels = [\n",
    "    ('background', ),\n",
    "    ('door', 'doorframe, doorcase', 'double door'),\n",
    "    ('bed', 'bedpost'),\n",
    "    ('wardrobe, closet, press', ),\n",
    "    ('lamp', ),\n",
    "    ('chest of drawers, chest, bureau, dresser', ),\n",
    "    ('pillow', ),\n",
    "    ('armchair', 'chair', 'swivel chair'),\n",
    "    ('pane, pane of glass, window glass', 'windowpane, window',),\n",
    "    ('curtain, drape, drapery, mantle, pall',),\n",
    "]"
   ]
  },
  {
   "cell_type": "code",
   "execution_count": 8,
   "metadata": {},
   "outputs": [],
   "source": [
    "original_labels = get_all_ade20k_labels(SRC_DIR)"
   ]
  },
  {
   "cell_type": "code",
   "execution_count": 4,
   "metadata": {},
   "outputs": [
    {
     "name": "stdout",
     "output_type": "stream",
     "text": [
      "Partition training has 1099.\n",
      "Partition validation has 104.\n",
      "ADE20K dataset has been converted and stored in ./tutorial_ade20k_pascal\n",
      "Label mapping has been stored in ./tutorial_ade20k_pascal/labelmap.json\n",
      "CPU times: user 5min 11s, sys: 8.87 s, total: 5min 20s\n",
      "Wall time: 5min 37s\n"
     ]
    }
   ],
   "source": [
    "%%time\n",
    "convert_to_pascal(SRC_DIR,\n",
    "                  DEST_DIR,\n",
    "                  required_keywords=required_keywords,\n",
    "                  reject_keywords=reject_keywords,\n",
    "                  want_labels=want_labels)"
   ]
  },
  {
   "cell_type": "code",
   "execution_count": null,
   "metadata": {},
   "outputs": [],
   "source": []
  }
 ],
 "metadata": {
  "kernelspec": {
   "display_name": "Python 3",
   "language": "python",
   "name": "python3"
  },
  "language_info": {
   "codemirror_mode": {
    "name": "ipython",
    "version": 3
   },
   "file_extension": ".py",
   "mimetype": "text/x-python",
   "name": "python",
   "nbconvert_exporter": "python",
   "pygments_lexer": "ipython3",
   "version": "3.7.7"
  }
 },
 "nbformat": 4,
 "nbformat_minor": 4
}
