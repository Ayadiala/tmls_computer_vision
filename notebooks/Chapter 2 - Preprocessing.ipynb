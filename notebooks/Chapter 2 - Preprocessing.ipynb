{
 "cells": [
  {
   "cell_type": "markdown",
   "metadata": {},
   "source": [
    "# Preprocessing\n",
    "In this Notebook, we'll do the following.\n",
    "\n",
    "* Select and merge labels from the full ADE20k dataset that we want to keep\n",
    "* Select the scenes from the full ADE20k dataset that we want to use for training\n",
    "* Create new annotation images for each of the selected scenes\n",
    "* Store this newly created dataset with the same directory structure as PASCAL\n",
    "* Visualize the scenes and their annotations side-by-side"
   ]
  },
  {
   "cell_type": "code",
   "execution_count": null,
   "metadata": {},
   "outputs": [],
   "source": []
  }
 ],
 "metadata": {
  "kernelspec": {
   "display_name": "Python 3",
   "language": "python",
   "name": "python3"
  },
  "language_info": {
   "codemirror_mode": {
    "name": "ipython",
    "version": 3
   },
   "file_extension": ".py",
   "mimetype": "text/x-python",
   "name": "python",
   "nbconvert_exporter": "python",
   "pygments_lexer": "ipython3",
   "version": "3.7.7"
  }
 },
 "nbformat": 4,
 "nbformat_minor": 4
}
