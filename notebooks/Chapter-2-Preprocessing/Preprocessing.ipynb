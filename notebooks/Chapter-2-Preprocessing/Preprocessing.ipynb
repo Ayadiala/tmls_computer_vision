{
 "cells": [
  {
   "cell_type": "markdown",
   "metadata": {},
   "source": [
    "# Preprocessing\n",
    "In this Notebook, we'll do the following.\n",
    "\n",
    "* Select and merge labels from the full ADE20k dataset that we want to keep\n",
    "* Select the scenes from the full ADE20k dataset that we want to use for training\n",
    "* Create new annotation images for each of the selected scenes\n",
    "* Store this newly created dataset with the same directory structure as PASCAL\n",
    "* Visualize the scenes and their annotations side-by-side"
   ]
  },
  {
   "cell_type": "code",
   "execution_count": 1,
   "metadata": {},
   "outputs": [],
   "source": [
    "%load_ext autoreload\n",
    "%autoreload 2"
   ]
  },
  {
   "cell_type": "code",
   "execution_count": 2,
   "metadata": {},
   "outputs": [],
   "source": [
    "import matplotlib.pyplot as plt\n",
    "from conversion import *"
   ]
  },
  {
   "cell_type": "code",
   "execution_count": 5,
   "metadata": {},
   "outputs": [],
   "source": [
    "# TODO: Set the directory here for the unprocessed ADE20K full dataset.\n",
    "SRC_DIR = \"../../datasets/ADE20K_2016_07_26/\"\n",
    "\n",
    "# TODO: Set a destination directory for the formatted ADE20K dataset.\n",
    "DEST_DIR = \"../../datasets/bedroom_scenes\"\n",
    "\n",
    "# TODO: Select scenes of interest to keep.\n",
    "required_keywords = [\n",
    "    'bedroom', 'childs_room', 'dorm_room', 'hotel_room',  \n",
    "]\n",
    "\n",
    "# TODO: Select keywords that cannot be in the sample name. \"Outdoor\" is\n",
    "# a common choice here to choose indoor vs outdoor garage scenes, for \n",
    "# example.\n",
    "reject_keywords = [\"outdoor\"]\n",
    "\n",
    "want_labels = [\n",
    "    ('background', ),\n",
    "    ('door', 'doorframe, doorcase', 'double door'),\n",
    "    ('bed', 'bedpost', 'blanket, cover', 'headboard',),\n",
    "    ('wardrobe, closet, press', ),\n",
    "    ('lamp', ),\n",
    "    ('chest of drawers, chest, bureau, dresser', 'chest'),\n",
    "    ('pillow', ),\n",
    "    ('armchair', 'chair', 'swivel chair'),\n",
    "    ('pane, pane of glass, window glass', 'windowpane, window',),\n",
    "    ('curtain, drape, drapery, mantle, pall',),\n",
    "    ('mirror',),\n",
    "    ('painting, picture', 'frame',),\n",
    "    ('wall',),\n",
    "    ('ceiling',),\n",
    "    ('floor, flooring',),\n",
    "]"
   ]
  },
  {
   "cell_type": "code",
   "execution_count": 6,
   "metadata": {},
   "outputs": [
    {
     "name": "stdout",
     "output_type": "stream",
     "text": [
      "Partition training has 1679.\n",
      "Partition validation has 168.\n",
      "ADE20K dataset has been converted and stored in ../datasets/bedroom_scenes\n",
      "Label mapping has been stored in ../datasets/bedroom_scenes/new_id_to_label.json\n",
      "CPU times: user 7min 6s, sys: 3.65 s, total: 7min 9s\n",
      "Wall time: 7min 10s\n"
     ]
    }
   ],
   "source": [
    "%%time\n",
    "new_id_to_label = convert_to_pascal(SRC_DIR,\n",
    "                                    DEST_DIR,\n",
    "                                    required_keywords=required_keywords,\n",
    "                                    reject_keywords=reject_keywords,\n",
    "                                    want_labels=want_labels)"
   ]
  },
  {
   "cell_type": "markdown",
   "metadata": {},
   "source": [
    "## Visualize New Segmentation Masks"
   ]
  },
  {
   "cell_type": "code",
   "execution_count": 13,
   "metadata": {},
   "outputs": [],
   "source": [
    "# Reads the text file to detect the names of all sample instances in the\n",
    "# partition of interest.\n",
    "VOC_DIR = os.path.join(DEST_DIR, \"VOCdevkit/VOC2012\")\n",
    "partition = \"train\"\n",
    "partition_filepath = os.path.join(VOC_DIR, f\"ImageSets/Segmentation/{partition}.txt\")\n",
    "with open(partition_filepath) as rf:\n",
    "    samples = rf.readlines()\n",
    "    samples = [sample.strip() for sample in samples]\n",
    "    \n",
    "n_samples = len(samples)\n",
    "img_paths = [os.path.join(VOC_DIR, f'JPEGImages/{s}.jpg') for s in samples]\n",
    "seg_paths = [os.path.join(VOC_DIR, f'SegmentationClass/{s}.png') for s in samples]"
   ]
  },
  {
   "cell_type": "code",
   "execution_count": 15,
   "metadata": {},
   "outputs": [],
   "source": [
    "def show_random_sample():\n",
    "    idx = np.random.randint(n_samples)\n",
    "    img_fp, seg_fp = img_paths[idx], seg_paths[idx]\n",
    "    \n",
    "    plt.figure(dpi=200)\n",
    "    plt.imshow(imread(img_fp))\n",
    "    disp_seg(imread(seg_fp), new_id_to_label)"
   ]
  },
  {
   "cell_type": "code",
   "execution_count": null,
   "metadata": {},
   "outputs": [],
   "source": [
    "show_random_sample()"
   ]
  }
 ],
 "metadata": {
  "kernelspec": {
   "display_name": "Python 3",
   "language": "python",
   "name": "python3"
  },
  "language_info": {
   "codemirror_mode": {
    "name": "ipython",
    "version": 3
   },
   "file_extension": ".py",
   "mimetype": "text/x-python",
   "name": "python",
   "nbconvert_exporter": "python",
   "pygments_lexer": "ipython3",
   "version": "3.7.7"
  }
 },
 "nbformat": 4,
 "nbformat_minor": 4
}
