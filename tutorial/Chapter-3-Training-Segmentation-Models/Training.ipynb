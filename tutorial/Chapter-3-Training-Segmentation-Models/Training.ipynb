{
 "cells": [
  {
   "cell_type": "markdown",
   "metadata": {},
   "source": [
    "# Training\n",
    "In this Notebook, we'll do the following.\n",
    "\n",
    "* Install the `mmdetection` package\n",
    "* Setup a configuration file to use our custom dataset for training and inference\n",
    "* Visualize training progress\n",
    "* Save our trained model to use for inference later"
   ]
  },
  {
   "cell_type": "markdown",
   "metadata": {},
   "source": [
    "### Requirements\n",
    "* Linux or macOS (Windows is not currently officially supported)\n",
    "* Python 3.6+\n",
    "* PyTorch 1.3+\n",
    "* CUDA 9.2+ (If you build PyTorch from source, CUDA 9.0 is also compatible)\n",
    "* GCC 5+\n",
    "* mmcv\n"
   ]
  },
  {
   "cell_type": "markdown",
   "metadata": {},
   "source": [
    "### Install mmdetection 2.0\n",
    "* Create a conda virtual environment and activate it."
   ]
  },
  {
   "cell_type": "code",
   "execution_count": 2,
   "metadata": {},
   "outputs": [],
   "source": [
    "#!conda create -n open-mmlab python=3.7 -y\n",
    "#!conda activate open-mmlab"
   ]
  },
  {
   "attachments": {},
   "cell_type": "markdown",
   "metadata": {},
   "source": [
    "* Install PyTorch and torchvision (here we use a more stable torch and cuda version)."
   ]
  },
  {
   "cell_type": "code",
   "execution_count": 3,
   "metadata": {},
   "outputs": [],
   "source": [
    "#!conda install pytorch=1.3.1 cudatoolkit=10.0 torchvision=0.4.2 -c pytorch"
   ]
  },
  {
   "attachments": {},
   "cell_type": "markdown",
   "metadata": {},
   "source": [
    "* Install pycocotools via the github repo instead of pypi because the pypi version is old and not compatible with the latest numpy."
   ]
  },
  {
   "cell_type": "code",
   "execution_count": 5,
   "metadata": {},
   "outputs": [],
   "source": [
    "# !git clone https://github.com/cocodataset/cocoapi.git\n",
    "# !cd ~/cocoapi/PythonAPI\n",
    "# !pip install cython\n",
    "# !make install"
   ]
  },
  {
   "cell_type": "markdown",
   "metadata": {},
   "source": [
    "* Clone the mmdetection repository."
   ]
  },
  {
   "cell_type": "code",
   "execution_count": 6,
   "metadata": {},
   "outputs": [],
   "source": [
    "# !git clone https://github.com/open-mmlab/mmdetection.git\n",
    "# !cd mmdetection"
   ]
  },
  {
   "attachments": {},
   "cell_type": "markdown",
   "metadata": {},
   "source": [
    "* Install build requirements and then install mmdetection."
   ]
  },
  {
   "cell_type": "code",
   "execution_count": 7,
   "metadata": {},
   "outputs": [],
   "source": [
    "# !pip install -r requirements/build.txt\n",
    "# !pip install -v -e .  # or !python setup.py develop"
   ]
  },
  {
   "cell_type": "markdown",
   "metadata": {},
   "source": [
    "* (Optional: In case a rebuild is needed)"
   ]
  },
  {
   "cell_type": "code",
   "execution_count": 8,
   "metadata": {},
   "outputs": [],
   "source": [
    "# !rm -rf build/*\n",
    "# !python setup.py develop"
   ]
  }
 ],
 "metadata": {
  "kernelspec": {
   "display_name": "Python 3",
   "language": "python",
   "name": "python3"
  },
  "language_info": {
   "codemirror_mode": {
    "name": "ipython",
    "version": 3
   },
   "file_extension": ".py",
   "mimetype": "text/x-python",
   "name": "python",
   "nbconvert_exporter": "python",
   "pygments_lexer": "ipython3",
   "version": "3.5.5"
  }
 },
 "nbformat": 4,
 "nbformat_minor": 4
}
