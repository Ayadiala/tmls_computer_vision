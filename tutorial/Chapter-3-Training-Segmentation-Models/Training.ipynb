{
 "cells": [
  {
   "cell_type": "markdown",
   "metadata": {},
   "source": [
    "# Training\n",
    "In this Notebook, we'll do the following.\n",
    "\n",
    "* Install the `mmdetection` package\n",
    "* Setup a configuration files to use our custom dataset for training and inference\n",
    "* Visualize training progress\n",
    "* Save our trained model to use for inference later\n",
    "* Make inference with our trained model"
   ]
  },
  {
   "cell_type": "markdown",
   "metadata": {},
   "source": [
    "### Requirements\n",
    "* Linux or macOS (Windows is not currently officially supported)\n",
    "* Python 3.6+\n",
    "* PyTorch 1.3+\n",
    "* CUDA 9.2+ (If you build PyTorch from source, CUDA 9.0 is also compatible)\n",
    "* GCC 5+\n",
    "* mmcv\n"
   ]
  },
  {
   "cell_type": "markdown",
   "metadata": {},
   "source": [
    "### Install mmdetection 2.0\n",
    "* Create a conda virtual environment and activate it."
   ]
  },
  {
   "cell_type": "code",
   "execution_count": 2,
   "metadata": {},
   "outputs": [],
   "source": [
    "#!conda create -n open-mmlab python=3.7 -y\n",
    "#!conda activate open-mmlab"
   ]
  },
  {
   "cell_type": "markdown",
   "metadata": {},
   "source": [
    "* Install PyTorch and torchvision (here we use a more stable torch and cuda version)."
   ]
  },
  {
   "cell_type": "code",
   "execution_count": 3,
   "metadata": {},
   "outputs": [],
   "source": [
    "#!conda install pytorch=1.3.1 cudatoolkit=10.0 torchvision=0.4.2 -c pytorch"
   ]
  },
  {
   "cell_type": "markdown",
   "metadata": {},
   "source": [
    "* Install pycocotools via the github repo instead of pypi because the pypi version is old and not compatible with the latest numpy."
   ]
  },
  {
   "cell_type": "code",
   "execution_count": 5,
   "metadata": {},
   "outputs": [],
   "source": [
    "# !git clone https://github.com/cocodataset/cocoapi.git\n",
    "# !cd ~/cocoapi/PythonAPI\n",
    "# !pip install cython\n",
    "# !make install"
   ]
  },
  {
   "cell_type": "markdown",
   "metadata": {},
   "source": [
    "* Clone the mmdetection repository."
   ]
  },
  {
   "cell_type": "code",
   "execution_count": 6,
   "metadata": {},
   "outputs": [],
   "source": [
    "# !git clone https://github.com/open-mmlab/mmdetection.git\n",
    "# !cd mmdetection"
   ]
  },
  {
   "cell_type": "markdown",
   "metadata": {},
   "source": [
    "* Install build requirements and then install mmdetection."
   ]
  },
  {
   "cell_type": "code",
   "execution_count": 7,
   "metadata": {},
   "outputs": [],
   "source": [
    "# !pip install -r requirements/build.txt\n",
    "# !pip install -v -e .  # or !python setup.py develop"
   ]
  },
  {
   "cell_type": "markdown",
   "metadata": {},
   "source": [
    "* (Optional: In case a rebuild is needed)"
   ]
  },
  {
   "cell_type": "code",
   "execution_count": 8,
   "metadata": {},
   "outputs": [],
   "source": [
    "# !rm -rf build/*\n",
    "# !python setup.py develop"
   ]
  },
  {
   "cell_type": "markdown",
   "metadata": {},
   "source": [
    "### Setup Data Files\n",
    "Add your customized COCO-formatted dataset <br /><br />\n",
    "   * Add a new file, ‘mmdetection/mmdet/datasets/ade20kbed.py’.  CLASSES = None should be fine. <br /> <br /> \n",
    "   Or to be safe, list out your actual classes:\n",
    "   ```CLASSES = ('door | doorframe, doorcase | double door', 'bed | bedpost | blanket, cover | headboard', 'wardrobe, closet, press', 'lamp', 'chest of drawers, chest, bureau, dresser | chest', 'pillow', 'armchair | chair | swivel chair', 'pane, pane of glass, window glass | windowpane, window', 'curtain, drape, drapery, mantle, pall', 'mirror', 'painting, picture | frame', 'wall', 'ceiling', 'floor, flooring', 'cabinet')```\n",
    "   <br /><br />\n",
    "   * We also provide the link to download this file here:\n",
    "    <br /> <br /> (TODO) ```wget...```\n",
    "    <br /> <br /> It will look like:\n",
    "    ```\n",
    "    from .coco import CocoDataset\n",
    "    from .builder import DATASETS\n",
    "\n",
    "    @DATASETS.register_module()\n",
    "    class Ade20kBed(CocoDataset):\n",
    "        CLASSES = (...) ```\n",
    "  \n",
    "* Then, add this dataset class to \\_\\_init\\_\\_.py\n",
    "```\n",
    "from .ade20kbed import Ade20kBed\n",
    "...\n",
    "__all__ = [...,'Ade20kBed']\n",
    "     ```"
   ]
  },
  {
   "cell_type": "markdown",
   "metadata": {},
   "source": [
    "### Modify config files\n",
    "We will test out two different variations of models / backbone networks and provide instructions to modifying those files as well as links to download the config files.\n",
    "   * Choosing a model to use:\n",
    "    mmdetection's [Model Zoo](https://github.com/open-mmlab/mmdetection/blob/master/docs/model_zoo.md)\n",
    "    <br />For example, if we want to use [Res2Net](https://github.com/open-mmlab/mmdetection/tree/master/configs/res2net) as backbone, and [Mask-RCNN](https://github.com/open-mmlab/mmdetection/tree/master/configs/mask_rcnn) as our model.\n",
    "    <br />It is possible that the desired combination of model and backbone's performance information be listed under either the backbone page or the model page. Here, it's listed under the [backbone page](https://github.com/open-mmlab/mmdetection/tree/master/configs/res2net) for Res2Net.\n",
    "    <br />We note the mask AP (38.7) and find the corresponding config file:\n",
    "    ```configs/res2net/mask_rcnn_r2_101_fpn_2x_coco.py```\n",
    "    \n",
    "    \n",
    "   * Then we can go into our mmdetection config directory and modify the corresponding files. In the newest mmdetection release, the config files use wrappers so they are more structured.\n",
    "    <br />We look at the config file and figure out which other files we need to modify. Usually, we need to modify 2 files:\n",
    "        * The base model config file\n",
    "        * The dataset config file\n",
    "   * Opening ```configs/res2net/mask_rcnn_r2_101_fpn_2x_coco.py``` \n",
    "   \n",
    "   we see on the very top:\n",
    "   \n",
    "   ```_base_ = '../mask_rcnn/mask_rcnn_r50_fpn_2x_coco.py'```\n",
    "   \n",
    "    \n",
    "   * Opening this we find:\n",
    "    ```_base_ = [\n",
    "    '../_base_/models/mask_rcnn_r50_fpn.py',\n",
    "    '../_base_/datasets/coco_instance.py',\n",
    "    '../_base_/schedules/schedule_2x.py', '../_base_/default_runtime.py'\n",
    "]```\n",
    "   * These are the files we should modify. Here we leave the schedule and runtime config files and only modify:\n",
    "    ```mask_rcnn_r50_fpn.py``` and ```coco_detection.py``` (the base dataset config file for ```coco_instance.py```)\n",
    "    \n",
    "       * In ```mask_rcnn_r50_fpn.py```, we modify all ```num_classes``` and set them to 15, corresponding to the number of unique object classes in our dataset\n",
    "       * In ```coco_instance.py```, we modify our ```data_root```, ```dataset_type```, and if needed, ```data = dict(...)``` where the files to our training/validation images and annotations are set.\n",
    "        \n",
    "   * We also provide the link to download pre-modified configuration files so you can replace the original config files directly.<br /><br />\n",
    "    * (TODO: attach link to download directories and instructions to replace corresponding files)\n",
    "    * (TODO: also modify schedule_***.py to change number of epochs for recording purpose)\n"
   ]
  },
  {
   "cell_type": "markdown",
   "metadata": {},
   "source": [
    "### Training\n",
    "Before we start training, make a working directory where your models will be saved. In your ```mmdetection``` root:\n",
    "```\n",
    "mkdir work_dirs\n",
    "mkdir work_dirs/kdd/\n",
    "mkdir work_dirs/kdd/mask_rcnn_res2net\n",
    "```\n",
    "Now we can finally start training!\n",
    "\n",
    "```python tools/train.py configs/res2net/mask_rcnn_r2_101_fpn_2x_coco.py --work-dir work_dirs/kdd/mask_rcnn_res2net/```"
   ]
  },
  {
   "cell_type": "markdown",
   "metadata": {},
   "source": [
    "### Visualizing traing Progress\n",
    "```python tools/analyze_logs.py plot_curve work_dirs/kdd/mask_rcnn_res2net/[timestamp].log.json --keys segm_mAP segm_mAP_50 segm_mAP_75 --out work_dirs/kdd/mask_rcnn_res2net/loss_mask.png```\n",
    "<img src=\"loss_plots/loss_mask.png\">"
   ]
  }
 ],
 "metadata": {
  "kernelspec": {
   "display_name": "Python 3",
   "language": "python",
   "name": "python3"
  },
  "language_info": {
   "codemirror_mode": {
    "name": "ipython",
    "version": 3
   },
   "file_extension": ".py",
   "mimetype": "text/x-python",
   "name": "python",
   "nbconvert_exporter": "python",
   "pygments_lexer": "ipython3",
   "version": "3.5.5"
  }
 },
 "nbformat": 4,
 "nbformat_minor": 4
}
