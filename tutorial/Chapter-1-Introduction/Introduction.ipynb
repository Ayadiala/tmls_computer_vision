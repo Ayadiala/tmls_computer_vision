{
 "cells": [
  {
   "cell_type": "markdown",
   "metadata": {},
   "source": [
    "# Introduction to Computer Vision"
   ]
  },
  {
   "cell_type": "code",
   "execution_count": null,
   "metadata": {},
   "outputs": [],
   "source": []
  },
  {
   "cell_type": "markdown",
   "metadata": {},
   "source": [
    "## Tasks Within Computer Vision\n",
    "* Image Classification\n",
    "* Object Detection\n",
    "* Semantic Segmentation\n",
    "* Instance Segmentation\n",
    "\n",
    "### Image Classification\n",
    "TODO\n",
    "\n",
    "### Object Detection\n",
    "TODO\n",
    "\n",
    "### Semantic Segmentation\n",
    "TODO\n",
    "\n",
    "### Instance Segmentation\n",
    "TODO"
   ]
  },
  {
   "cell_type": "markdown",
   "metadata": {},
   "source": [
    "## Datasets\n",
    "There are many vision datasets out there, but since our focus will be semantic segmentation, we'll introduce the following datasets.\n",
    "\n",
    "### PASCAL\n",
    "TODO\n",
    "\n",
    "### COCO\n",
    "TODO\n",
    "\n",
    "### ADE20K\n",
    "TODO:\n",
    "\n",
    "This is the dataset we'll be focusing our efforts on. \n",
    "\n",
    "[Here](https://groups.csail.mit.edu/vision/datasets/ADE20K/ADE20K_2016_07_26.zip) is a link to the dataset download. You can run the following commands in terminal to download and unzip the dataset.\n",
    "```bash\n",
    "wget https://groups.csail.mit.edu/vision/datasets/ADE20K/ADE20K_2016_07_26.zip\n",
    "unzip -qq ADE20K_2016_07_26.zip\n",
    "```\n",
    "\n"
   ]
  },
  {
   "cell_type": "code",
   "execution_count": null,
   "metadata": {},
   "outputs": [],
   "source": []
  }
 ],
 "metadata": {
  "kernelspec": {
   "display_name": "Python 3",
   "language": "python",
   "name": "python3"
  },
  "language_info": {
   "codemirror_mode": {
    "name": "ipython",
    "version": 3
   },
   "file_extension": ".py",
   "mimetype": "text/x-python",
   "name": "python",
   "nbconvert_exporter": "python",
   "pygments_lexer": "ipython3",
   "version": "3.7.7"
  }
 },
 "nbformat": 4,
 "nbformat_minor": 4
}
